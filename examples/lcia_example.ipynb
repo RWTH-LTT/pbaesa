{
 "cells": [
  {
   "cell_type": "markdown",
   "metadata": {},
   "source": [
    "# Planetary Boundary LCIA Example\n",
    "\n",
    "This notebook demonstrates how to:\n",
    "1. Install pb-aesa LCIA methods to Brightway\n",
    "2. Run an LCA on a process\n",
    "3. Calculate and print LCIA results using the Planetary Boundary methods"
   ]
  },
  {
   "cell_type": "markdown",
   "metadata": {},
   "source": [
    "## 1. Import Required Packages"
   ]
  },
  {
   "cell_type": "code",
   "execution_count": null,
   "metadata": {},
   "outputs": [],
   "source": [
    "import bw2data as bd\n",
    "import bw2calc as bc\n",
    "import pb_aesa\n",
    "import pandas as pd"
   ]
  },
  {
   "cell_type": "markdown",
   "metadata": {},
   "source": [
    "## 2. Initialize Brightway Project\n",
    "\n",
    "Set up your Brightway project. Adjust the project name and database names according to your setup."
   ]
  },
  {
   "cell_type": "code",
   "execution_count": null,
   "metadata": {},
   "outputs": [],
   "source": [
    "# Set the current Brightway project\n",
    "bd.projects.set_current('PB_AESA')\n",
    "\n",
    "# Load databases\n",
    "bio = bd.Database(\"ecoinvent-3.10.1-biosphere\")\n",
    "ei = bd.Database(\"ecoinvent-3.10.1-cutoff\")\n",
    "\n",
    "print(f\"Project: {bd.projects.current}\")\n",
    "print(f\"Databases loaded: {list(bd.databases)}\")"
   ]
  },
  {
   "cell_type": "markdown",
   "metadata": {},
   "source": [
    "## 3. Install Planetary Boundary LCIA Methods\n",
    "\n",
    "This step creates and registers all planetary boundary LCIA methods in Brightway."
   ]
  },
  {
   "cell_type": "code",
   "execution_count": null,
   "metadata": {},
   "outputs": [],
   "source": [
    "# Create all LCIA methods (standard + nitrogen cycle)\n",
    "pb_aesa.implement_lcia_methods(bio)\n",
    "\n",
    "# Verify methods were created\n",
    "pb_methods = [met for met in bd.methods if \"Planetary Boundaries\" in str(met)]\n",
    "print(f\"\\nInstalled {len(pb_methods)} Planetary Boundary LCIA methods:\")\n",
    "for method in pb_methods:\n",
    "    print(f\"  - {method}\")"
   ]
  },
  {
   "cell_type": "markdown",
   "metadata": {},
   "source": [
    "## 4. Select a Process for Analysis\n",
    "\n",
    "Choose a process from the ecoinvent database to analyze."
   ]
  },
  {
   "cell_type": "code",
   "execution_count": null,
   "metadata": {},
   "outputs": [],
   "source": [
    "# Example: Select wheat grain production in Germany\n",
    "# You can modify this to select any process you're interested in\n",
    "\n",
    "process = [act for act in ei \n",
    "           if 'DE' in act['location'] \n",
    "           and 'wheat grain production' in act['name']][0]\n",
    "\n",
    "print(f\"Selected process:\")\n",
    "print(f\"  Name: {process['name']}\")\n",
    "print(f\"  Location: {process['location']}\")\n",
    "print(f\"  Unit: {process['unit']}\")\n",
    "print(f\"  Code: {process['code']}\")"
   ]
  },
  {
   "cell_type": "markdown",
   "metadata": {},
   "source": [
    "## 5. Run LCA with Single Method\n",
    "\n",
    "First, let's run a simple LCA with a single planetary boundary method."
   ]
  },
  {
   "cell_type": "code",
   "execution_count": null,
   "metadata": {},
   "outputs": [],
   "source": [
    "# Select Climate Change method\n",
    "climate_method = ('Planetary Boundaries', 'Climate Change')\n",
    "\n",
    "# Create and run LCA\n",
    "lca = bc.LCA({process: 1}, climate_method)\n",
    "lca.lci()\n",
    "lca.lcia()\n",
    "\n",
    "# Get result\n",
    "climate_score = lca.score\n",
    "\n",
    "print(f\"\\nLCA Result for {climate_method[1]}:\")\n",
    "print(f\"  Score: {climate_score:.6f}\")\n",
    "print(f\"  Unit: {bd.methods[climate_method].get('unit', 'N/A')}\")"
   ]
  },
  {
   "cell_type": "markdown",
   "metadata": {},
   "source": [
    "## 6. Run Multi-LCA with All Planetary Boundary Methods\n",
    "\n",
    "Now let's run an LCA with all planetary boundary methods simultaneously."
   ]
  },
  {
   "cell_type": "code",
   "execution_count": null,
   "metadata": {},
   "outputs": [],
   "source": [
    "# Get all planetary boundary methods\n",
    "pb_methods = [met for met in bd.methods if \"Planetary Boundaries\" in str(met)]\n",
    "\n",
    "# Define functional unit\n",
    "functional_unit = {\n",
    "    \"process_1\": {ei.get(process[\"code\"]).id: 1.0},\n",
    "}\n",
    "\n",
    "# Configure MultiLCA\n",
    "config = {\n",
    "    \"impact_categories\": pb_methods\n",
    "}\n",
    "\n",
    "# Get data objects\n",
    "data_objs = bd.get_multilca_data_objs(\n",
    "    functional_units=functional_unit, \n",
    "    method_config=config\n",
    ")\n",
    "\n",
    "# Run MultiLCA\n",
    "mlca = bc.MultiLCA(\n",
    "    demands=functional_unit, \n",
    "    method_config=config, \n",
    "    data_objs=data_objs\n",
    ")\n",
    "mlca.lci()\n",
    "mlca.lcia()\n",
    "\n",
    "print(\"\\nMulti-LCA completed successfully!\")\n",
    "print(f\"Analyzed {len(mlca.scores)} impact categories\")"
   ]
  },
  {
   "cell_type": "markdown",
   "metadata": {},
   "source": [
    "## 7. Display LCIA Results\n",
    "\n",
    "Show the raw LCIA scores for each planetary boundary category."
   ]
  },
  {
   "cell_type": "code",
   "execution_count": null,
   "metadata": {},
   "outputs": [],
   "source": [
    "# Create a DataFrame with the results\n",
    "results_data = []\n",
    "for method_key, score in mlca.scores.items():\n",
    "    category = method_key[0][1]\n",
    "    unit = bd.methods[method_key[0]].get('unit', 'N/A')\n",
    "    results_data.append({\n",
    "        'Category': category,\n",
    "        'Score': score,\n",
    "        'Unit': unit\n",
    "    })\n",
    "\n",
    "results_df = pd.DataFrame(results_data)\n",
    "results_df = results_df.sort_values('Score', ascending=False)\n",
    "\n",
    "print(\"\\n\" + \"=\"*80)\n",
    "print(\"LCIA RESULTS - Planetary Boundaries\")\n",
    "print(\"=\"*80)\n",
    "print(results_df.to_string(index=False))\n",
    "print(\"=\"*80)"
   ]
  },
  {
   "cell_type": "markdown",
   "metadata": {},
   "source": [
    "## 8. Calculate Exploitation of Safe Operating Space\n",
    "\n",
    "Normalize the results by the Safe Operating Space thresholds to see how much of the planetary boundary is being exploited."
   ]
  },
  {
   "cell_type": "code",
   "execution_count": null,
   "metadata": {},
   "outputs": [],
   "source": [
    "# Calculate exploitation of Safe Operating Space\n",
    "exploit = pb_aesa.calculate_exploitation_of_SOS(mlca.scores)\n",
    "\n",
    "# Create DataFrame for better display\n",
    "exploit_data = []\n",
    "for method_key, value in exploit.items():\n",
    "    category = method_key[0][1]\n",
    "    threshold = pb_aesa.SAFE_OPERATING_SPACE.get(category, None)\n",
    "    exploit_data.append({\n",
    "        'Category': category,\n",
    "        'SOS Threshold': threshold,\n",
    "        'Impact Score': mlca.scores[method_key],\n",
    "        'SOS Exploitation': value if value is not None else 'N/A'\n",
    "    })\n",
    "\n",
    "exploit_df = pd.DataFrame(exploit_data)\n",
    "exploit_df = exploit_df.sort_values('SOS Exploitation', ascending=False, \n",
    "                                     key=lambda x: pd.to_numeric(x, errors='coerce'))\n",
    "\n",
    "print(\"\\n\" + \"=\"*90)\n",
    "print(\"EXPLOITATION OF SAFE OPERATING SPACE\")\n",
    "print(\"=\"*90)\n",
    "print(exploit_df.to_string(index=False))\n",
    "print(\"=\"*90)\n",
    "print(\"\\nNote: SOS Exploitation > 1.0 means the safe operating space is exceeded\")"
   ]
  },
  {
   "cell_type": "markdown",
   "metadata": {},
   "source": [
    "## 9. Visualize Results\n",
    "\n",
    "Create a bar chart showing the exploitation of Safe Operating Space for each planetary boundary."
   ]
  },
  {
   "cell_type": "code",
   "execution_count": null,
   "metadata": {},
   "outputs": [],
   "source": [
    "# Plot exploitation of Safe Operating Space\n",
    "pb_aesa.plot_exploitation_of_SOS(exploit)"
   ]
  },
  {
   "cell_type": "markdown",
   "metadata": {},
   "source": [
    "## 10. Summary and Interpretation\n",
    "\n",
    "Let's create a summary showing which boundaries are most stressed."
   ]
  },
  {
   "cell_type": "code",
   "execution_count": null,
   "metadata": {},
   "outputs": [],
   "source": [
    "# Identify categories with highest exploitation\n",
    "print(\"\\n\" + \"=\"*80)\n",
    "print(\"SUMMARY\")\n",
    "print(\"=\"*80)\n",
    "\n",
    "# Filter out N/A values and convert to numeric\n",
    "valid_exploit = {k: v for k, v in exploit.items() if v is not None}\n",
    "\n",
    "if valid_exploit:\n",
    "    # Sort by exploitation value\n",
    "    sorted_exploit = sorted(valid_exploit.items(), key=lambda x: x[1], reverse=True)\n",
    "    \n",
    "    print(f\"\\nProcess analyzed: {process['name']} ({process['location']})\")\n",
    "    print(f\"Functional unit: 1 {process['unit']}\\n\")\n",
    "    \n",
    "    print(\"Top 3 most stressed planetary boundaries:\")\n",
    "    for i, (method_key, value) in enumerate(sorted_exploit[:3], 1):\n",
    "        category = method_key[0][1]\n",
    "        status = \"⚠️ EXCEEDED\" if value > 1.0 else \"✓ Within bounds\"\n",
    "        print(f\"{i}. {category}: {value:.6f} ({status})\")\n",
    "    \n",
    "    # Count exceeded boundaries\n",
    "    exceeded = sum(1 for v in valid_exploit.values() if v > 1.0)\n",
    "    print(f\"\\nTotal boundaries exceeded: {exceeded} out of {len(valid_exploit)}\")\n",
    "else:\n",
    "    print(\"No valid exploitation values calculated.\")\n",
    "\n",
    "print(\"=\"*80)"
   ]
  },
  {
   "cell_type": "markdown",
   "metadata": {},
   "source": [
    "## Additional Analysis Options\n",
    "\n",
    "### Access Safe Operating Space Thresholds"
   ]
  },
  {
   "cell_type": "code",
   "execution_count": null,
   "metadata": {},
   "outputs": [],
   "source": [
    "# Display all Safe Operating Space thresholds\n",
    "print(\"\\nSafe Operating Space Thresholds:\")\n",
    "for category, threshold in pb_aesa.SAFE_OPERATING_SPACE.items():\n",
    "    unit = pb_aesa.PLANETARY_BOUNDARY_UNITS.get(category, 'N/A')\n",
    "    print(f\"  {category}: {threshold} ({unit})\")"
   ]
  },
  {
   "cell_type": "markdown",
   "metadata": {},
   "source": [
    "### Compare Multiple Processes\n",
    "\n",
    "You can extend this notebook to compare multiple processes by running the analysis for different activities and comparing their exploitation values."
   ]
  },
  {
   "cell_type": "code",
   "execution_count": null,
   "metadata": {},
   "outputs": [],
   "source": [
    "# Example: Compare different agricultural processes\n",
    "# This is a template - adjust according to your needs\n",
    "\n",
    "# processes_to_compare = [\n",
    "#     'wheat grain production',\n",
    "#     'maize grain production',\n",
    "#     'potato production'\n",
    "# ]\n",
    "\n",
    "# comparison_results = {}\n",
    "# for process_name in processes_to_compare:\n",
    "#     proc = [act for act in ei if process_name in act['name'] and 'DE' in act['location']][0]\n",
    "#     # Run LCA and calculate exploitation...\n",
    "#     # Store results in comparison_results\n",
    "\n",
    "print(\"\\nTo compare multiple processes, uncomment and modify the code above.\")"
   ]
  }
 ],
 "metadata": {
  "kernelspec": {
   "display_name": "Python 3",
   "language": "python",
   "name": "python3"
  },
  "language_info": {
   "codemirror_mode": {
    "name": "ipython",
    "version": 3
   },
   "file_extension": ".py",
   "mimetype": "text/x-python",
   "name": "python",
   "nbconvert_exporter": "python",
   "pygments_lexer": "ipython3",
   "version": "3.12.0"
  }
 },
 "nbformat": 4,
 "nbformat_minor": 4
}
